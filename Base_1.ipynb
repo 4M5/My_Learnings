{
  "nbformat": 4,
  "nbformat_minor": 0,
  "metadata": {
    "colab": {
      "provenance": [],
      "authorship_tag": "ABX9TyMbfKavAzlaPP511+xSZ1B4",
      "include_colab_link": true
    },
    "kernelspec": {
      "name": "python3",
      "display_name": "Python 3"
    },
    "language_info": {
      "name": "python"
    }
  },
  "cells": [
    {
      "cell_type": "markdown",
      "metadata": {
        "id": "view-in-github",
        "colab_type": "text"
      },
      "source": [
        "<a href=\"https://colab.research.google.com/github/4M5/My_Learnings/blob/main/Base_1.ipynb\" target=\"_parent\"><img src=\"https://colab.research.google.com/assets/colab-badge.svg\" alt=\"Open In Colab\"/></a>"
      ]
    },
    {
      "cell_type": "markdown",
      "source": [
        "1.Area and perimeter of rectangle"
      ],
      "metadata": {
        "id": "y1qimBQAuKRZ"
      }
    },
    {
      "cell_type": "code",
      "source": [
        "l=float(input(\"Enter length: \"))\n",
        "b=float(input(\"Enter breadth: \"))\n",
        "area=l*b\n",
        "perimeter=2*(l+b)\n",
        "print(\"Area\",area)\n",
        "print(\"Perimeter\",perimeter)"
      ],
      "metadata": {
        "colab": {
          "base_uri": "https://localhost:8080/"
        },
        "id": "ybyhZpvDuVXO",
        "outputId": "38b50410-8a74-423b-c5d8-4cd6ae0f4276"
      },
      "execution_count": null,
      "outputs": [
        {
          "output_type": "stream",
          "name": "stdout",
          "text": [
            "Enter length: 12.4\n",
            "Enter breadth: 2.3\n",
            "Area 28.52\n",
            "Perimeter 29.4\n"
          ]
        }
      ]
    },
    {
      "cell_type": "markdown",
      "source": [
        "2.Check /, //, %"
      ],
      "metadata": {
        "id": "mRUqXRiTwO1P"
      }
    },
    {
      "cell_type": "code",
      "source": [
        "a=int(input(\"Enter 1st no: \"))\n",
        "b=int(input(\"Enter 2nd no: \"))\n",
        "c=a/b\n",
        "d=a//b\n",
        "e=a%b\n",
        "print(\"/= \",c)\n",
        "print(\"//= \",d)\n",
        "print(\"%= \",e)"
      ],
      "metadata": {
        "colab": {
          "base_uri": "https://localhost:8080/"
        },
        "id": "b3Oq11PYwUyP",
        "outputId": "280cb0c2-b23d-4c5e-b90c-c677dc35af2f"
      },
      "execution_count": null,
      "outputs": [
        {
          "output_type": "stream",
          "name": "stdout",
          "text": [
            "Enter 1st no: 121\n",
            "Enter 2nd no: 100\n",
            "/=  1.21\n",
            "//=  1\n",
            "%=  21\n"
          ]
        }
      ]
    },
    {
      "cell_type": "markdown",
      "source": [
        "3.Swapping numbers"
      ],
      "metadata": {
        "id": "fjblcO4sxhMb"
      }
    },
    {
      "cell_type": "code",
      "source": [
        "a=5\n",
        "b=10\n",
        "print(a,b)\n",
        "temp=a\n",
        "a=b\n",
        "b=temp\n",
        "print(\"After: \",a)\n",
        "print(\"After: \",b)"
      ],
      "metadata": {
        "colab": {
          "base_uri": "https://localhost:8080/"
        },
        "id": "9Rytf2pNxqho",
        "outputId": "d3994216-3d04-46a6-f2b7-009fd596df2d"
      },
      "execution_count": null,
      "outputs": [
        {
          "output_type": "stream",
          "name": "stdout",
          "text": [
            "5 10\n",
            "After:  10\n",
            "After:  5\n"
          ]
        }
      ]
    },
    {
      "cell_type": "markdown",
      "source": [
        "4.Voters Eligibility"
      ],
      "metadata": {
        "id": "9UjEC1qo0Ehp"
      }
    },
    {
      "cell_type": "code",
      "source": [
        "age=float(input(\"Enter the age: \"))\n",
        "if(age>=18):\n",
        "  print(\"Eligible\")\n",
        "else:\n",
        "  print(\"Not Eligible\")"
      ],
      "metadata": {
        "colab": {
          "base_uri": "https://localhost:8080/"
        },
        "id": "svRRY9z10Jb6",
        "outputId": "b64604d3-c8a7-4b87-d763-4e247e8cd40b"
      },
      "execution_count": null,
      "outputs": [
        {
          "output_type": "stream",
          "name": "stdout",
          "text": [
            "Enter the age: 77\n",
            "Eligible\n"
          ]
        }
      ]
    },
    {
      "cell_type": "markdown",
      "source": [
        "5.Biggest of Two Numbers"
      ],
      "metadata": {
        "id": "mW4iChtz0lQi"
      }
    },
    {
      "cell_type": "code",
      "source": [
        "a=int(input(\"Enter 1st no: \"))\n",
        "b=int(input(\"Enter 2nd no: \"))\n",
        "if(a>b):\n",
        "  print(a,\"is biggest\")\n",
        "else:\n",
        "  print(b,\"is biggest\")"
      ],
      "metadata": {
        "colab": {
          "base_uri": "https://localhost:8080/"
        },
        "id": "nz5zTPtg0o64",
        "outputId": "8f551144-c049-4653-8d3f-5a0709579b0e"
      },
      "execution_count": null,
      "outputs": [
        {
          "output_type": "stream",
          "name": "stdout",
          "text": [
            "Enter 1st no: 15\n",
            "Enter 2nd no: 20\n",
            "20 is biggest\n"
          ]
        }
      ]
    },
    {
      "cell_type": "markdown",
      "source": [
        "6.Biggest among three numbers"
      ],
      "metadata": {
        "id": "muyOLw-31_hH"
      }
    },
    {
      "cell_type": "code",
      "source": [
        "a=int(input(\"Enter 1st no: \"))\n",
        "b=int(input(\"Enter 2nd no: \"))\n",
        "c=int(input(\"Enter 3rd no: \"))\n",
        "if(a>b):\n",
        "  if(a>c):\n",
        "    print(a,\"is biggest\")\n",
        "  else:\n",
        "    print(c,\"is biggest\")\n",
        "else:\n",
        "  if(b>c):\n",
        "    print(b,\"is biggest\")\n",
        "  else:\n",
        "    print(c,\"is biggest\")\n"
      ],
      "metadata": {
        "id": "ZnUdBkfx3I2U",
        "outputId": "c6fa0469-b3f5-45db-e5db-03b5fb9393fb",
        "colab": {
          "base_uri": "https://localhost:8080/"
        }
      },
      "execution_count": 1,
      "outputs": [
        {
          "output_type": "stream",
          "name": "stdout",
          "text": [
            "Enter 1st no: 5\n",
            "Enter 2nd no: 10\n",
            "Enter 3rd no: 8\n",
            "10 is biggest\n"
          ]
        }
      ]
    }
  ]
}