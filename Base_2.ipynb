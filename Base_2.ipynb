{
  "nbformat": 4,
  "nbformat_minor": 0,
  "metadata": {
    "colab": {
      "provenance": [],
      "authorship_tag": "ABX9TyP99GQ9lqdBmHfpnbsmyluz",
      "include_colab_link": true
    },
    "kernelspec": {
      "name": "python3",
      "display_name": "Python 3"
    },
    "language_info": {
      "name": "python"
    }
  },
  "cells": [
    {
      "cell_type": "markdown",
      "metadata": {
        "id": "view-in-github",
        "colab_type": "text"
      },
      "source": [
        "<a href=\"https://colab.research.google.com/github/4M5/My_Learnings/blob/main/Base_2.ipynb\" target=\"_parent\"><img src=\"https://colab.research.google.com/assets/colab-badge.svg\" alt=\"Open In Colab\"/></a>"
      ]
    },
    {
      "cell_type": "markdown",
      "source": [
        "1. ====>PANDAS"
      ],
      "metadata": {
        "id": "b8Ka5I58UnSM"
      }
    },
    {
      "cell_type": "code",
      "execution_count": 1,
      "metadata": {
        "colab": {
          "base_uri": "https://localhost:8080/"
        },
        "id": "i1EztsQXS7ab",
        "outputId": "8b417003-3485-4233-91bf-c090acbfb83b"
      },
      "outputs": [
        {
          "output_type": "stream",
          "name": "stdout",
          "text": [
            "Empty DataFrame\n",
            "Columns: []\n",
            "Index: []\n"
          ]
        }
      ],
      "source": [
        "import pandas as p\n",
        "frame=p.DataFrame()\n",
        "print(frame)"
      ]
    },
    {
      "cell_type": "code",
      "source": [
        "a=[[1,2,3,4,5],[6,7,8,9,10]]\n",
        "frame2=p.DataFrame(a)\n",
        "print(frame2)"
      ],
      "metadata": {
        "colab": {
          "base_uri": "https://localhost:8080/"
        },
        "id": "nreMCU31ZI-t",
        "outputId": "7bc84d85-d2a9-435f-e7e7-be08c78decc2"
      },
      "execution_count": 2,
      "outputs": [
        {
          "output_type": "stream",
          "name": "stdout",
          "text": [
            "   0  1  2  3   4\n",
            "0  1  2  3  4   5\n",
            "1  6  7  8  9  10\n"
          ]
        }
      ]
    },
    {
      "cell_type": "code",
      "source": [
        "b=[[\"KTU\",\"Place\",\"Code\"],[\"TKM\",\"Kollam\",1234],[\"CET\",\"TVM\",56789]]\n",
        "fram=p.DataFrame(b)\n",
        "print(fram)"
      ],
      "metadata": {
        "colab": {
          "base_uri": "https://localhost:8080/"
        },
        "id": "oYSIe1EeaF2E",
        "outputId": "6a2917db-1c03-42f0-8602-fc5b015b60d7"
      },
      "execution_count": 3,
      "outputs": [
        {
          "output_type": "stream",
          "name": "stdout",
          "text": [
            "     0       1      2\n",
            "0  KTU   Place   Code\n",
            "1  TKM  Kollam   1234\n",
            "2  CET     TVM  56789\n"
          ]
        }
      ]
    },
    {
      "cell_type": "code",
      "source": [
        "print(fram.ndim)"
      ],
      "metadata": {
        "colab": {
          "base_uri": "https://localhost:8080/"
        },
        "id": "--oXkqfTa6DZ",
        "outputId": "00d3f4f9-a639-456a-a5d0-e6a8e2fc19ca"
      },
      "execution_count": 4,
      "outputs": [
        {
          "output_type": "stream",
          "name": "stdout",
          "text": [
            "2\n"
          ]
        }
      ]
    },
    {
      "cell_type": "code",
      "source": [
        "#DICTIONARY-------\n",
        "dict={\"Name\":[\"Abey\",\"Anil\"],\"Age\":[23,50]}\n",
        "print(dict)\n",
        "dframe=p.DataFrame(dict)\n",
        "print(dframe)\n",
        "print(dframe.dtypes)"
      ],
      "metadata": {
        "colab": {
          "base_uri": "https://localhost:8080/"
        },
        "id": "WMqQxSGxbWqM",
        "outputId": "dbfcdab3-c322-42d0-b81f-fa6aa6a2ecde"
      },
      "execution_count": 5,
      "outputs": [
        {
          "output_type": "stream",
          "name": "stdout",
          "text": [
            "{'Name': ['Abey', 'Anil'], 'Age': [23, 50]}\n",
            "   Name  Age\n",
            "0  Abey   23\n",
            "1  Anil   50\n",
            "Name    object\n",
            "Age      int64\n",
            "dtype: object\n"
          ]
        }
      ]
    },
    {
      "cell_type": "code",
      "source": [
        "dframe.info(verbose=False)"
      ],
      "metadata": {
        "colab": {
          "base_uri": "https://localhost:8080/"
        },
        "id": "8ZGPU3HtdUYb",
        "outputId": "ca04598a-67cb-4ccd-a1c7-16dbc801c160"
      },
      "execution_count": 6,
      "outputs": [
        {
          "output_type": "stream",
          "name": "stdout",
          "text": [
            "<class 'pandas.core.frame.DataFrame'>\n",
            "RangeIndex: 2 entries, 0 to 1\n",
            "Columns: 2 entries, Name to Age\n",
            "dtypes: int64(1), object(1)\n",
            "memory usage: 164.0+ bytes\n"
          ]
        }
      ]
    },
    {
      "cell_type": "code",
      "source": [
        "dframe.values"
      ],
      "metadata": {
        "colab": {
          "base_uri": "https://localhost:8080/"
        },
        "id": "KGXnWoHTeJc8",
        "outputId": "771c61aa-4be6-45c0-8abd-e13f97053934"
      },
      "execution_count": 7,
      "outputs": [
        {
          "output_type": "execute_result",
          "data": {
            "text/plain": [
              "array([['Abey', 23],\n",
              "       ['Anil', 50]], dtype=object)"
            ]
          },
          "metadata": {},
          "execution_count": 7
        }
      ]
    },
    {
      "cell_type": "code",
      "source": [
        "dframe.size"
      ],
      "metadata": {
        "colab": {
          "base_uri": "https://localhost:8080/"
        },
        "id": "u85CKLcreQMN",
        "outputId": "a576bc72-d772-4798-cf67-4cbc92d9810e"
      },
      "execution_count": 8,
      "outputs": [
        {
          "output_type": "execute_result",
          "data": {
            "text/plain": [
              "4"
            ]
          },
          "metadata": {},
          "execution_count": 8
        }
      ]
    },
    {
      "cell_type": "markdown",
      "source": [
        "2. ====>NUMPY"
      ],
      "metadata": {
        "id": "qCFkeKQYes8o"
      }
    },
    {
      "cell_type": "code",
      "source": [
        "import numpy as np\n",
        "x=np.array([1,2,3,4,5,6])\n",
        "print(x)\n",
        "print(type(x))"
      ],
      "metadata": {
        "colab": {
          "base_uri": "https://localhost:8080/"
        },
        "id": "-ezQbc8HesJh",
        "outputId": "cd7e2613-ca62-4855-8930-885b2249c4aa"
      },
      "execution_count": 9,
      "outputs": [
        {
          "output_type": "stream",
          "name": "stdout",
          "text": [
            "[1 2 3 4 5 6]\n",
            "<class 'numpy.ndarray'>\n"
          ]
        }
      ]
    },
    {
      "cell_type": "code",
      "source": [
        "one=np.ones((4,5))\n",
        "print(one)"
      ],
      "metadata": {
        "colab": {
          "base_uri": "https://localhost:8080/"
        },
        "id": "KdNHcDblhbAl",
        "outputId": "1ba3c3f7-cf82-4584-8e74-a7cec8506720"
      },
      "execution_count": 10,
      "outputs": [
        {
          "output_type": "stream",
          "name": "stdout",
          "text": [
            "[[1. 1. 1. 1. 1.]\n",
            " [1. 1. 1. 1. 1.]\n",
            " [1. 1. 1. 1. 1.]\n",
            " [1. 1. 1. 1. 1.]]\n"
          ]
        }
      ]
    },
    {
      "cell_type": "code",
      "source": [
        "zero=np.zeros((3,4))\n",
        "print(zero)"
      ],
      "metadata": {
        "colab": {
          "base_uri": "https://localhost:8080/"
        },
        "id": "goHHGWrLhukB",
        "outputId": "70033814-ae4e-4fe5-d152-5d82d67c084c"
      },
      "execution_count": 11,
      "outputs": [
        {
          "output_type": "stream",
          "name": "stdout",
          "text": [
            "[[0. 0. 0. 0.]\n",
            " [0. 0. 0. 0.]\n",
            " [0. 0. 0. 0.]]\n"
          ]
        }
      ]
    },
    {
      "cell_type": "code",
      "source": [
        "y=np.array(['TKM','College',28,8,2022])\n",
        "print(y)"
      ],
      "metadata": {
        "colab": {
          "base_uri": "https://localhost:8080/"
        },
        "id": "egZkAMCfh3AD",
        "outputId": "84b7b5da-6bb5-4ed1-806b-2f18f142f710"
      },
      "execution_count": 12,
      "outputs": [
        {
          "output_type": "stream",
          "name": "stdout",
          "text": [
            "['TKM' 'College' '28' '8' '2022']\n"
          ]
        }
      ]
    },
    {
      "cell_type": "code",
      "source": [
        "arr1=np.arange(start=10,stop=101,step=5)\n",
        "print(arr1)"
      ],
      "metadata": {
        "colab": {
          "base_uri": "https://localhost:8080/"
        },
        "id": "hT1T0mewiLu4",
        "outputId": "2b0176e4-7173-41c0-a93f-98db23289391"
      },
      "execution_count": 13,
      "outputs": [
        {
          "output_type": "stream",
          "name": "stdout",
          "text": [
            "[ 10  15  20  25  30  35  40  45  50  55  60  65  70  75  80  85  90  95\n",
            " 100]\n"
          ]
        }
      ]
    },
    {
      "cell_type": "code",
      "source": [
        "np.random.rand(50)"
      ],
      "metadata": {
        "colab": {
          "base_uri": "https://localhost:8080/"
        },
        "id": "_ulHkLbYiYpm",
        "outputId": "defdfaab-dcd4-4122-b9d0-5e0d8074b178"
      },
      "execution_count": 14,
      "outputs": [
        {
          "output_type": "execute_result",
          "data": {
            "text/plain": [
              "array([0.32040623, 0.0166916 , 0.80824452, 0.18794958, 0.36485313,\n",
              "       0.07723253, 0.38982041, 0.06806807, 0.47886924, 0.48062795,\n",
              "       0.69563705, 0.35155509, 0.90046827, 0.38949344, 0.2234555 ,\n",
              "       0.21839035, 0.88796556, 0.4101079 , 0.17163655, 0.72185815,\n",
              "       0.35670258, 0.1515978 , 0.24847807, 0.17612406, 0.02482371,\n",
              "       0.13106345, 0.28133512, 0.50221738, 0.13946561, 0.93123926,\n",
              "       0.97228396, 0.10075528, 0.41806142, 0.63996142, 0.4540096 ,\n",
              "       0.14086265, 0.72195418, 0.95437727, 0.28266219, 0.6767005 ,\n",
              "       0.86785342, 0.8760537 , 0.64394951, 0.14735931, 0.95058851,\n",
              "       0.26400112, 0.03237336, 0.81261647, 0.83427715, 0.82593933])"
            ]
          },
          "metadata": {},
          "execution_count": 14
        }
      ]
    },
    {
      "cell_type": "code",
      "source": [
        "data=np.array([[1,2,3],[4,5,6],[7,8,9],[10,15,7]])\n",
        "print(data)\n",
        "print(data.shape)"
      ],
      "metadata": {
        "colab": {
          "base_uri": "https://localhost:8080/"
        },
        "id": "7bZZxayzie8c",
        "outputId": "a9c49bf2-8853-412f-ea44-978a5b964e59"
      },
      "execution_count": 15,
      "outputs": [
        {
          "output_type": "stream",
          "name": "stdout",
          "text": [
            "[[ 1  2  3]\n",
            " [ 4  5  6]\n",
            " [ 7  8  9]\n",
            " [10 15  7]]\n",
            "(4, 3)\n"
          ]
        }
      ]
    },
    {
      "cell_type": "code",
      "source": [
        "datas=data.reshape(3,4)\n",
        "print(datas)"
      ],
      "metadata": {
        "colab": {
          "base_uri": "https://localhost:8080/"
        },
        "id": "s2bM7U49i89I",
        "outputId": "ac5149a0-60fa-4cfe-a69b-83878eaa8b5d"
      },
      "execution_count": 16,
      "outputs": [
        {
          "output_type": "stream",
          "name": "stdout",
          "text": [
            "[[ 1  2  3  4]\n",
            " [ 5  6  7  8]\n",
            " [ 9 10 15  7]]\n"
          ]
        }
      ]
    },
    {
      "cell_type": "code",
      "source": [
        "arr1=np.array([[2,4,6],[1,2,3],[5,7,8]])\n",
        "arr2=np.array([[1,1,1],[2,2,2],[3,3,3]])\n",
        "add=np.add(arr1,arr2)\n",
        "print(add)"
      ],
      "metadata": {
        "colab": {
          "base_uri": "https://localhost:8080/"
        },
        "id": "ndA86TbFkSOs",
        "outputId": "760b4130-100f-43f9-9706-64a36389db9c"
      },
      "execution_count": 17,
      "outputs": [
        {
          "output_type": "stream",
          "name": "stdout",
          "text": [
            "[[ 3  5  7]\n",
            " [ 3  4  5]\n",
            " [ 8 10 11]]\n"
          ]
        }
      ]
    },
    {
      "cell_type": "code",
      "source": [
        "#mul=element multiplication\n",
        "\n",
        "mul=np.multiply(arr1,arr2)\n",
        "\n",
        "#dot=matrix multiplication\n",
        "\n",
        "dot=np.dot(arr1,arr2)\n",
        "print(mul)\n",
        "print(dot)"
      ],
      "metadata": {
        "colab": {
          "base_uri": "https://localhost:8080/"
        },
        "id": "7PAnXf_YlWrF",
        "outputId": "e799eeb8-b74b-4611-a5a9-bbd907195a85"
      },
      "execution_count": 18,
      "outputs": [
        {
          "output_type": "stream",
          "name": "stdout",
          "text": [
            "[[ 2  4  6]\n",
            " [ 2  4  6]\n",
            " [15 21 24]]\n",
            "[[28 28 28]\n",
            " [14 14 14]\n",
            " [43 43 43]]\n"
          ]
        }
      ]
    }
  ]
}