{
  "nbformat": 4,
  "nbformat_minor": 0,
  "metadata": {
    "colab": {
      "provenance": [],
      "authorship_tag": "ABX9TyOyin1O7n0rUuRRbMesZ8WG",
      "include_colab_link": true
    },
    "kernelspec": {
      "name": "python3",
      "display_name": "Python 3"
    },
    "language_info": {
      "name": "python"
    }
  },
  "cells": [
    {
      "cell_type": "markdown",
      "metadata": {
        "id": "view-in-github",
        "colab_type": "text"
      },
      "source": [
        "<a href=\"https://colab.research.google.com/github/4M5/My_Learnings/blob/main/Base_5.ipynb\" target=\"_parent\"><img src=\"https://colab.research.google.com/assets/colab-badge.svg\" alt=\"Open In Colab\"/></a>"
      ]
    },
    {
      "cell_type": "markdown",
      "source": [
        "LIST[ ], TUPLE( ), SET{ }, DICT{ }"
      ],
      "metadata": {
        "id": "H1FGiGArfVv5"
      }
    },
    {
      "cell_type": "code",
      "execution_count": 1,
      "metadata": {
        "colab": {
          "base_uri": "https://localhost:8080/"
        },
        "id": "qRTZUkMWesMd",
        "outputId": "23f84a6d-3b45-467b-f47a-9c63f466450e"
      },
      "outputs": [
        {
          "output_type": "stream",
          "name": "stdout",
          "text": [
            "[1, 3, 4, 5, 6, 50, 20, 24, 25, 26]\n",
            "(1, 2, 3, 4, 5, 6)\n",
            "{1, 2, 3, 4, 5, 6}\n"
          ]
        }
      ],
      "source": [
        "a=[1,2,2,3,4,5,6]\n",
        "b=(1,2,3,4,5,6)\n",
        "c={1,2,3,4,5,6}\n",
        "a.append(50)\n",
        "a.append(20)\n",
        "a.remove(2)\n",
        "a.remove(2)\n",
        "a.extend([24,25,26])\n",
        "print(a)\n",
        "print(b)\n",
        "print(c)"
      ]
    },
    {
      "cell_type": "code",
      "source": [
        "x = []\n",
        "for i in range(0,5):\n",
        "  x.extend([int(input(\"Enter\"))])\n",
        "x.insert(2,60)\n",
        "x.pop()\n",
        "print(x)\n",
        "x.reverse()\n",
        "print(\"Length=\",len(x))\n",
        "print(x[1:4])\n",
        "print(min(x),max(x))\n",
        "\n"
      ],
      "metadata": {
        "colab": {
          "base_uri": "https://localhost:8080/"
        },
        "id": "VKkNpWzdiHvt",
        "outputId": "c9eac4ad-e284-4605-9627-767e96d150ff"
      },
      "execution_count": 3,
      "outputs": [
        {
          "output_type": "stream",
          "name": "stdout",
          "text": [
            "Enter123456\n",
            "Enter789\n",
            "Enter10121\n",
            "Enter454\n",
            "Enter465\n",
            "[123456, 789, 60, 10121, 454]\n",
            "Length= 5\n",
            "[10121, 60, 789]\n",
            "60 123456\n"
          ]
        }
      ]
    },
    {
      "cell_type": "code",
      "source": [
        "x.clear()\n",
        "for i in range(0,5):\n",
        "\n",
        "  x.extend([int(input(\"Enter\"))])\n",
        "x.insert(2,60)\n",
        "print(x[::])\n",
        "print(x[3:1:-1])\n",
        "\n",
        "print(x.pop())\n",
        "print(x)"
      ],
      "metadata": {
        "id": "GjPDV-79kY9o",
        "colab": {
          "base_uri": "https://localhost:8080/"
        },
        "outputId": "88e6fa1a-3f81-403d-da57-5e5b14a34de2"
      },
      "execution_count": 4,
      "outputs": [
        {
          "output_type": "stream",
          "name": "stdout",
          "text": [
            "Enter1\n",
            "Enter2\n",
            "Enter3\n",
            "Enter5\n",
            "Enter9\n",
            "[1, 2, 60, 3, 5, 9]\n",
            "[3, 60]\n",
            "9\n",
            "[1, 2, 60, 3, 5]\n"
          ]
        }
      ]
    },
    {
      "cell_type": "code",
      "source": [
        "# dict={1:\"Abey\",2:\"Arun\"}\n",
        "# #    key:value,key:value\n",
        "# #dict.key()\n",
        "# #dict.values()\n"
      ],
      "metadata": {
        "id": "mvo-tu5f3YU7"
      },
      "execution_count": null,
      "outputs": []
    },
    {
      "cell_type": "code",
      "source": [
        "diction={1:\"ABey\",2:\"cherry\"}\n",
        "print(diction)\n",
        "diction.update({3:\"Shashi\"})\n",
        "print(diction)"
      ],
      "metadata": {
        "id": "KUFgZ9jM6XZS",
        "colab": {
          "base_uri": "https://localhost:8080/"
        },
        "outputId": "b8d9ce53-6943-4fb0-b227-5dfd124f1da9"
      },
      "execution_count": 5,
      "outputs": [
        {
          "output_type": "stream",
          "name": "stdout",
          "text": [
            "{1: 'ABey', 2: 'cherry'}\n",
            "{1: 'ABey', 2: 'cherry', 3: 'Shashi'}\n"
          ]
        }
      ]
    },
    {
      "cell_type": "code",
      "source": [
        "x = {}\n",
        "type(x)"
      ],
      "metadata": {
        "id": "qb4JXDfs-CJg",
        "colab": {
          "base_uri": "https://localhost:8080/"
        },
        "outputId": "645de7e6-c313-4d3f-ecdf-5564fe4dbd58"
      },
      "execution_count": 6,
      "outputs": [
        {
          "output_type": "execute_result",
          "data": {
            "text/plain": [
              "dict"
            ]
          },
          "metadata": {},
          "execution_count": 6
        }
      ]
    },
    {
      "cell_type": "code",
      "source": [
        "h = {}\n",
        "y={}\n",
        "for i in range(0,2):\n",
        "  h.update({int(input(\"KEY: \")):input(\"Value: \")})\n",
        "\n",
        "\n",
        "print(h)"
      ],
      "metadata": {
        "id": "-zv2puUc7nz8",
        "colab": {
          "base_uri": "https://localhost:8080/"
        },
        "outputId": "23b8ed72-71a3-4086-f658-53822fa4da68"
      },
      "execution_count": 7,
      "outputs": [
        {
          "output_type": "stream",
          "name": "stdout",
          "text": [
            "KEY: 4\n",
            "Value: 5\n",
            "KEY: 7\n",
            "Value: 8\n",
            "{4: '5', 7: '8'}\n"
          ]
        }
      ]
    }
  ]
}