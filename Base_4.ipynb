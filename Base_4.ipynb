{
  "nbformat": 4,
  "nbformat_minor": 0,
  "metadata": {
    "colab": {
      "provenance": [],
      "authorship_tag": "ABX9TyPjqvjOgyyJ+rHEBO+3Klup",
      "include_colab_link": true
    },
    "kernelspec": {
      "name": "python3",
      "display_name": "Python 3"
    },
    "language_info": {
      "name": "python"
    }
  },
  "cells": [
    {
      "cell_type": "markdown",
      "metadata": {
        "id": "view-in-github",
        "colab_type": "text"
      },
      "source": [
        "<a href=\"https://colab.research.google.com/github/4M5/My_Learnings/blob/main/Base_4.ipynb\" target=\"_parent\"><img src=\"https://colab.research.google.com/assets/colab-badge.svg\" alt=\"Open In Colab\"/></a>"
      ]
    },
    {
      "cell_type": "markdown",
      "source": [
        "LOOPING"
      ],
      "metadata": {
        "id": "92uy_PNCYjkD"
      }
    },
    {
      "cell_type": "code",
      "execution_count": null,
      "metadata": {
        "colab": {
          "base_uri": "https://localhost:8080/"
        },
        "id": "j7-a_Km8X9t_",
        "outputId": "206a8037-f842-499e-e269-81aa4f013214"
      },
      "outputs": [
        {
          "output_type": "stream",
          "name": "stdout",
          "text": [
            "Ayyo world\n",
            "Ayyo world\n",
            "Ayyo world\n",
            "Ayyo world\n",
            "Ayyo world\n",
            "Ayyo world\n",
            "Ayyo world\n",
            "Ayyo world\n",
            "Ayyo world\n"
          ]
        }
      ],
      "source": [
        "for i in range(1,10):\n",
        "  print(\"Ayyo world\")\n"
      ]
    },
    {
      "cell_type": "code",
      "source": [
        "#range(a,b,c) a=start, b=ending-1, c=(step)iteration pole\n",
        "a=int(input(\"Enter starting value: \"))\n",
        "b=int(input(\"Enter last no: \"))\n",
        "if(a>b):\n",
        "  print(\"NOT POSSIBLE\")\n",
        "else:\n",
        "  for i in range(a,b+1,2):\n",
        "    print(i)"
      ],
      "metadata": {
        "colab": {
          "base_uri": "https://localhost:8080/"
        },
        "id": "mYIRpPGaY1m6",
        "outputId": "fa631a5d-d985-48ed-8d02-5f9eee3e9d1d"
      },
      "execution_count": null,
      "outputs": [
        {
          "output_type": "stream",
          "name": "stdout",
          "text": [
            "Enter starting value: 2\n",
            "Enter last no: 16\n",
            "2\n",
            "4\n",
            "6\n",
            "8\n",
            "10\n",
            "12\n",
            "14\n",
            "16\n"
          ]
        }
      ]
    },
    {
      "cell_type": "code",
      "source": [
        "big=0\n",
        "for a in range(1,11):\n",
        "  a=int(input(\"Enter no: \"))\n",
        "\n",
        "  if(a>big):\n",
        "    big=a\n",
        "print(big)"
      ],
      "metadata": {
        "colab": {
          "base_uri": "https://localhost:8080/"
        },
        "id": "06C4NAEJbXix",
        "outputId": "d69a7589-40a8-4d6e-df08-ac949a2dc013"
      },
      "execution_count": null,
      "outputs": [
        {
          "output_type": "stream",
          "name": "stdout",
          "text": [
            "Enter no: 1\n",
            "Enter no: 5\n",
            "Enter no: 8\n",
            "Enter no: 9\n",
            "Enter no: 10\n",
            "Enter no: 50\n",
            "Enter no: 4\n",
            "Enter no: 6\n",
            "Enter no: 3\n",
            "Enter no: 2\n",
            "50\n"
          ]
        }
      ]
    },
    {
      "cell_type": "code",
      "source": [
        "big=0\n",
        "second=0\n",
        "for i in range(1,10):\n",
        "  a=int(input(\"Enter no: \"))\n",
        "  if(a>big):\n",
        "    second=big\n",
        "    big=a\n",
        "  else:\n",
        "    big=big\n",
        "\n",
        "print(\"\\n\\tBiggest=\",big,\"\\n\")\n",
        "print(\"\\tSecond biggest=\",second)"
      ],
      "metadata": {
        "colab": {
          "base_uri": "https://localhost:8080/"
        },
        "id": "0ltHqt29eJxC",
        "outputId": "e0b35dac-b9e0-4c40-c7fc-7abbca121f70"
      },
      "execution_count": null,
      "outputs": [
        {
          "output_type": "stream",
          "name": "stdout",
          "text": [
            "Enter no: 5\n",
            "Enter no: 6\n",
            "Enter no: 90\n",
            "Enter no: 22\n",
            "Enter no: 80\n",
            "Enter no: 60\n",
            "Enter no: 70\n",
            "Enter no: 44\n",
            "Enter no: 45\n",
            "\n",
            "\tBiggest= 90 \n",
            "\n",
            "\tSecond biggest= 6\n"
          ]
        }
      ]
    },
    {
      "cell_type": "code",
      "source": [
        "a=int(input(\"Enter no: \"))\n",
        "for i in range(1,a+1):\n",
        "  if(i%2==0):\n",
        "    print(i)"
      ],
      "metadata": {
        "colab": {
          "base_uri": "https://localhost:8080/"
        },
        "id": "ZkRQGu_Okmk4",
        "outputId": "0297477d-e3ad-4db7-9543-456e727b0351"
      },
      "execution_count": null,
      "outputs": [
        {
          "output_type": "stream",
          "name": "stdout",
          "text": [
            "Enter no: 10\n",
            "2\n",
            "4\n",
            "6\n",
            "8\n",
            "10\n"
          ]
        }
      ]
    },
    {
      "cell_type": "code",
      "source": [
        "for i in range(1,11):\n",
        "  a=int(input(\"Enter the nos: \"))\n",
        "  if(a%2==0):\n",
        "    print(a)"
      ],
      "metadata": {
        "id": "-Z3KMzzLlVBs"
      },
      "execution_count": null,
      "outputs": []
    },
    {
      "cell_type": "code",
      "source": [
        "sum=0\n",
        "for i in range(1,11):\n",
        "  a=int(input(\"Enter the nos: \"))\n",
        "  if(a%2==0):\n",
        "    sum=sum+a\n",
        "print(\"SUM=\",sum)"
      ],
      "metadata": {
        "colab": {
          "base_uri": "https://localhost:8080/"
        },
        "id": "G9ogiC80nfV6",
        "outputId": "7363d9e9-d7cc-4abd-b964-8a18525d4cf3"
      },
      "execution_count": null,
      "outputs": [
        {
          "output_type": "stream",
          "name": "stdout",
          "text": [
            "Enter the nos: 10\n",
            "Enter the nos: 15\n",
            "Enter the nos: 2\n",
            "Enter the nos: 6\n",
            "Enter the nos: 4\n",
            "Enter the nos: 3\n",
            "Enter the nos: 1\n",
            "Enter the nos: 9\n",
            "Enter the nos: 7\n",
            "Enter the nos: 5\n",
            "22\n"
          ]
        }
      ]
    },
    {
      "cell_type": "code",
      "source": [
        "evensum=0\n",
        "oddsum=0\n",
        "for i in range(1,11):\n",
        "  a=int(input(\"Enter the nos: \"))\n",
        "  if(a%2==0):\n",
        "    evensum=evensum+a\n",
        "  elif(a%2!=0):\n",
        "    oddsum=oddsum+a\n",
        "print(\"\\n\\tODDSUM= \",oddsum)\n",
        "print(\"\\tEVENSUM= \",evensum)\n",
        "print(\"\\n\\tTOTAL= \",oddsum+evensum)"
      ],
      "metadata": {
        "colab": {
          "base_uri": "https://localhost:8080/"
        },
        "id": "14aeI6i1ofFk",
        "outputId": "b03cb7ce-77c8-4af0-b42d-c4786b9bedc2"
      },
      "execution_count": null,
      "outputs": [
        {
          "output_type": "stream",
          "name": "stdout",
          "text": [
            "Enter the nos: 2\n",
            "Enter the nos: 3\n",
            "Enter the nos: 4\n",
            "Enter the nos: 10\n",
            "Enter the nos: 26\n",
            "Enter the nos: 9\n",
            "Enter the nos: 7\n",
            "Enter the nos: 3\n",
            "Enter the nos: 1\n",
            "Enter the nos: 13\n",
            "\n",
            "\tODDSUM=  36\n",
            "\tEVENSUM=  42\n",
            "\n",
            "\tTOTAL=  78\n"
          ]
        }
      ]
    },
    {
      "cell_type": "code",
      "source": [
        "i=1\n",
        "while(i<=10):\n",
        "  print(i)\n",
        "  i+=1"
      ],
      "metadata": {
        "colab": {
          "base_uri": "https://localhost:8080/"
        },
        "id": "ZP8SMOlKwmK5",
        "outputId": "89e33edb-13d0-4d40-9a5c-01cb22b4f65b"
      },
      "execution_count": null,
      "outputs": [
        {
          "output_type": "stream",
          "name": "stdout",
          "text": [
            "1\n",
            "2\n",
            "3\n",
            "4\n",
            "5\n",
            "6\n",
            "7\n",
            "8\n",
            "9\n",
            "10\n"
          ]
        }
      ]
    },
    {
      "cell_type": "code",
      "source": [
        "a=3\n",
        "while(a==5):\n",
        "  print(\"TKM\")"
      ],
      "metadata": {
        "id": "o9_1mNFyw1pf"
      },
      "execution_count": null,
      "outputs": []
    },
    {
      "cell_type": "code",
      "source": [
        "n=int(input(\"Enter the no: \"))\n",
        "small=n\n",
        "i=1\n",
        "while(i<10):\n",
        "  a=int(input(\"Enter no: \"))\n",
        "  if(a<small):\n",
        "    small=a\n",
        "  i+=1\n",
        "print(\"SMALLEST= \",small)"
      ],
      "metadata": {
        "colab": {
          "base_uri": "https://localhost:8080/"
        },
        "id": "PpFeKSNcyjRE",
        "outputId": "19c78f55-19c2-4919-e5e6-e75bbac87377"
      },
      "execution_count": null,
      "outputs": [
        {
          "output_type": "stream",
          "name": "stdout",
          "text": [
            "Enter the no: 5\n",
            "Enter no: 8\n",
            "Enter no: 9\n",
            "Enter no: 10\n",
            "Enter no: 22\n",
            "Enter no: 40\n",
            "Enter no: 1\n",
            "Enter no: 3\n",
            "Enter no: 6\n",
            "Enter no: 8\n",
            "SMALLEST=  1\n"
          ]
        }
      ]
    },
    {
      "cell_type": "code",
      "source": [
        "i=1\n",
        "while(i<=5):\n",
        "  a=int(input(\"Enter no: \"))\n",
        "  if(i==1):\n",
        "    small=a\n",
        "  elif(small>a):\n",
        "    small=a\n",
        "\n",
        "  i+=1\n",
        "print(\"SMALLEST= \",small)"
      ],
      "metadata": {
        "colab": {
          "base_uri": "https://localhost:8080/"
        },
        "id": "dCDIru3Yz_5U",
        "outputId": "bd26d2ec-ab4a-4806-ee24-5469b215d7b1"
      },
      "execution_count": null,
      "outputs": [
        {
          "output_type": "stream",
          "name": "stdout",
          "text": [
            "Enter no: 5\n",
            "Enter no: 4\n",
            "Enter no: 1\n",
            "Enter no: 10\n",
            "Enter no: 9\n",
            "SMALLEST=  1\n"
          ]
        }
      ]
    }
  ]
}