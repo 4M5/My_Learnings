{
  "nbformat": 4,
  "nbformat_minor": 0,
  "metadata": {
    "colab": {
      "provenance": [],
      "include_colab_link": true
    },
    "kernelspec": {
      "name": "python3",
      "display_name": "Python 3"
    },
    "language_info": {
      "name": "python"
    }
  },
  "cells": [
    {
      "cell_type": "markdown",
      "metadata": {
        "id": "view-in-github",
        "colab_type": "text"
      },
      "source": [
        "<a href=\"https://colab.research.google.com/github/4M5/My_Learnings/blob/main/Perceptron_Model.ipynb\" target=\"_parent\"><img src=\"https://colab.research.google.com/assets/colab-badge.svg\" alt=\"Open In Colab\"/></a>"
      ]
    },
    {
      "cell_type": "markdown",
      "source": [
        "1.Perceptron with given DATASET"
      ],
      "metadata": {
        "id": "E3bA38pLdGGm"
      }
    },
    {
      "cell_type": "code",
      "execution_count": 1,
      "metadata": {
        "id": "qyUerCcDbO0V",
        "colab": {
          "base_uri": "https://localhost:8080/"
        },
        "outputId": "e4394c6b-8abe-4448-a76d-391f7c9a9a9b"
      },
      "outputs": [
        {
          "output_type": "stream",
          "name": "stdout",
          "text": [
            "['Girl' 'Boy']\n"
          ]
        }
      ],
      "source": [
        "#TRAINING-----------------\n",
        "# 1. Load DATA\n",
        "x=[[1,1],[4,15],[2,1]]\n",
        "y=[\"Boy\",\"Girl\",\"Boy\"]\n",
        "\n",
        "# 2. Load MODEL\n",
        "from sklearn.linear_model import Perceptron\n",
        "model=Perceptron()\n",
        "\n",
        "# 3. Fit DATA into MODEL\n",
        "modell=model.fit(x,y)\n",
        "\n",
        "#TESTING---------(predict)\n",
        "op=modell.predict([[15,16],[0,0]])\n",
        "print(op)"
      ]
    },
    {
      "cell_type": "markdown",
      "source": [
        "2.Perceptron with Excel sheet"
      ],
      "metadata": {
        "id": "vCoIAOSEjEYE"
      }
    },
    {
      "cell_type": "code",
      "source": [
        "#TRAINING-----------------\n",
        "# 1. Load DATA\n",
        "import pandas as pd\n",
        "file=pd.read_csv(\"/content/irisexcel.csv\")\n",
        "x=file[[\"sepal_length\",\"sepal_width\",\"petal_length\",\"petal_width\"]]\n",
        "y=file[\"species\"]\n",
        "\n",
        "# 2. Load MODEL\n",
        "from sklearn.linear_model import Perceptron\n",
        "model=Perceptron()\n",
        "\n",
        "# 3. Fit DATA into MODEL\n",
        "modell=model.fit(x,y)\n",
        "\n",
        "#TESTING---------(predict)\n",
        "op=modell.predict([[2,3,4,5]])\n",
        "print(op)"
      ],
      "metadata": {
        "colab": {
          "base_uri": "https://localhost:8080/"
        },
        "id": "MsdYLxMRjDI-",
        "outputId": "ee5dd021-5095-456e-a6be-7e8f9da238a2"
      },
      "execution_count": 2,
      "outputs": [
        {
          "output_type": "stream",
          "name": "stdout",
          "text": [
            "['virginica']\n"
          ]
        },
        {
          "output_type": "stream",
          "name": "stderr",
          "text": [
            "/usr/local/lib/python3.11/dist-packages/sklearn/utils/validation.py:2739: UserWarning: X does not have valid feature names, but Perceptron was fitted with feature names\n",
            "  warnings.warn(\n"
          ]
        }
      ]
    },
    {
      "cell_type": "code",
      "source": [
        "import pandas as pd\n",
        "file=pd.read_csv(\"/content/irisexcel.csv\")\n",
        "print(file)"
      ],
      "metadata": {
        "colab": {
          "base_uri": "https://localhost:8080/"
        },
        "id": "Kg_9_k83j-3j",
        "outputId": "5d3a85b2-2b7d-4a16-e3e8-54e4ccb0bd5d"
      },
      "execution_count": 3,
      "outputs": [
        {
          "output_type": "stream",
          "name": "stdout",
          "text": [
            "     sepal_length  sepal_width  petal_length  petal_width    species\n",
            "0             5.1          3.5           1.4          0.2     setosa\n",
            "1             4.9          3.0           1.4          0.2     setosa\n",
            "2             4.7          3.2           1.3          0.2     setosa\n",
            "3             4.6          3.1           1.5          0.2     setosa\n",
            "4             5.0          3.6           1.4          0.2     setosa\n",
            "..            ...          ...           ...          ...        ...\n",
            "145           6.7          3.0           5.2          2.3  virginica\n",
            "146           6.3          2.5           5.0          1.9  virginica\n",
            "147           6.5          3.0           5.2          2.0  virginica\n",
            "148           6.2          3.4           5.4          2.3  virginica\n",
            "149           5.9          3.0           5.1          1.8  virginica\n",
            "\n",
            "[150 rows x 5 columns]\n"
          ]
        }
      ]
    },
    {
      "cell_type": "markdown",
      "source": [
        "3.Perceptron with Excel Sheet and cross validation"
      ],
      "metadata": {
        "id": "8ZsO1KljkvAU"
      }
    },
    {
      "cell_type": "code",
      "source": [
        "#TRAINING-----------------\n",
        "# 1. Load DATA\n",
        "import pandas as pd\n",
        "file=pd.read_csv(\"/content/irisexcel.csv\")\n",
        "x=file[[\"sepal_length\",\"sepal_width\",\"petal_length\",\"petal_width\"]]\n",
        "y=file[\"species\"]\n",
        "from sklearn.model_selection import train_test_split\n",
        "xtrain,xtest,ytrain,ytest=train_test_split(x,y,test_size=0.2,random_state=42)\n",
        "\n",
        "# 2. Load MODEL\n",
        "from sklearn.linear_model import Perceptron\n",
        "model=Perceptron()\n",
        "\n",
        "# 3. Fit DATA into MODEL\n",
        "modell=model.fit(xtrain,ytrain)\n",
        "\n",
        "#TESTING---------(predict)\n",
        "from sklearn.metrics import accuracy_score\n",
        "op=modell.predict(xtest)\n",
        "score=accuracy_score(ytest,op)\n",
        "print(\"Accuracy=\",score)\n",
        "\n",
        "from sklearn.metrics import confusion_matrix, ConfusionMatrixDisplay\n",
        "cm=confusion_matrix(ytest,op)\n",
        "cmd= ConfusionMatrixDisplay(confusion_matrix=cm,display_labels=modell.classes_)\n",
        "cmd.plot()"
      ],
      "metadata": {
        "colab": {
          "base_uri": "https://localhost:8080/",
          "height": 490
        },
        "id": "v3XbVvalklsD",
        "outputId": "c125342d-fc70-4ebb-d843-e9961379b7df"
      },
      "execution_count": 4,
      "outputs": [
        {
          "output_type": "stream",
          "name": "stdout",
          "text": [
            "Accuracy= 0.8333333333333334\n"
          ]
        },
        {
          "output_type": "execute_result",
          "data": {
            "text/plain": [
              "<sklearn.metrics._plot.confusion_matrix.ConfusionMatrixDisplay at 0x7dc4b4ac8b10>"
            ]
          },
          "metadata": {},
          "execution_count": 4
        },
        {
          "output_type": "display_data",
          "data": {
            "text/plain": [
              "<Figure size 640x480 with 2 Axes>"
            ],
            "image/png": "[encoded data removed]"
          },
          "metadata": {}
        }
      ]
    },
    {
      "cell_type": "code",
      "source": [
        "#TRAINING-----------------\n",
        "# 1. Load DATA\n",
        "from sklearn.datasets import load_iris\n",
        "file=load_iris()\n",
        "x=file.data\n",
        "y=file.target\n",
        "\n",
        "\n",
        "# 2. Load MODEL\n",
        "from sklearn.linear_model import Perceptron\n",
        "model=Perceptron()\n",
        "\n",
        "# 3. Fit DATA into MODEL\n",
        "modell=model.fit(xtrain,ytrain)\n",
        "\n",
        "#TESTING---------(predict)\n",
        "from sklearn.metrics import accuracy_score\n",
        "op=modell.predict(xtest)\n",
        "score=accuracy_score(ytest,op)\n",
        "print(\"Accuracy=\",score)"
      ],
      "metadata": {
        "id": "zAZiYgWhnvvw",
        "colab": {
          "base_uri": "https://localhost:8080/"
        },
        "outputId": "f70fed78-336e-4800-df0e-ee30a06e39b6"
      },
      "execution_count": 5,
      "outputs": [
        {
          "output_type": "stream",
          "name": "stdout",
          "text": [
            "Accuracy= 0.8333333333333334\n"
          ]
        }
      ]
    },
    {
      "cell_type": "code",
      "source": [
        "from sklearn.datasets import load_iris\n",
        "file=load_iris()\n",
        "x=file.data\n",
        "y=file.target\n",
        "print(y)\n",
        "from sklearn.model_selection import train_test_split\n",
        "xtrain,xtest,ytrain,ytest=train_test_split(x,y,test_size=0.2,random_state=42)\n",
        "\n",
        "# 2. Load MODEL\n",
        "from sklearn.linear_model import Perceptron\n",
        "model=Perceptron(n_iter_no_change=5,eta0=0.1,max_iter=40)\n",
        "\n",
        "# 3. Fit DATA into MODEL\n",
        "modell=model.fit(xtrain,ytrain)\n",
        "\n",
        "#TESTING---------(predict)\n",
        "from sklearn.metrics import accuracy_score\n",
        "op=modell.predict(xtest)\n",
        "score=accuracy_score(ytest,op)\n",
        "print(\"Accuracy=\",score)\n",
        "\n",
        "from sklearn.metrics import confusion_matrix, ConfusionMatrixDisplay\n",
        "cm=confusion_matrix(ytest,op)\n",
        "cmd= ConfusionMatrixDisplay(confusion_matrix=cm,display_labels=modell.classes_)\n",
        "cmd.plot()"
      ],
      "metadata": {
        "colab": {
          "base_uri": "https://localhost:8080/",
          "height": 571
        },
        "id": "5_Vl3apCqqrd",
        "outputId": "331ee032-8d8c-4a67-8b0f-0a12dcbf0757"
      },
      "execution_count": 6,
      "outputs": [
        {
          "output_type": "stream",
          "name": "stdout",
          "text": [
            "[0 0 0 0 0 0 0 0 0 0 0 0 0 0 0 0 0 0 0 0 0 0 0 0 0 0 0 0 0 0 0 0 0 0 0 0 0\n",
            " 0 0 0 0 0 0 0 0 0 0 0 0 0 1 1 1 1 1 1 1 1 1 1 1 1 1 1 1 1 1 1 1 1 1 1 1 1\n",
            " 1 1 1 1 1 1 1 1 1 1 1 1 1 1 1 1 1 1 1 1 1 1 1 1 1 1 2 2 2 2 2 2 2 2 2 2 2\n",
            " 2 2 2 2 2 2 2 2 2 2 2 2 2 2 2 2 2 2 2 2 2 2 2 2 2 2 2 2 2 2 2 2 2 2 2 2 2\n",
            " 2 2]\n",
            "Accuracy= 0.8\n"
          ]
        },
        {
          "output_type": "execute_result",
          "data": {
            "text/plain": [
              "<sklearn.metrics._plot.confusion_matrix.ConfusionMatrixDisplay at 0x7dc4b1b832d0>"
            ]
          },
          "metadata": {},
          "execution_count": 6
        },
        {
          "output_type": "display_data",
          "data": {
            "text/plain": [
              "<Figure size 640x480 with 2 Axes>"
            ],
            "image/png": "[encoded data removed]"
          },
          "metadata": {}
        }
      ]
    }
  ]
}