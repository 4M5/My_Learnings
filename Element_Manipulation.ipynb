{
  "nbformat": 4,
  "nbformat_minor": 0,
  "metadata": {
    "colab": {
      "provenance": [],
      "authorship_tag": "ABX9TyMcctBn1jiZOTQc4CZVLr9t",
      "include_colab_link": true
    },
    "kernelspec": {
      "name": "python3",
      "display_name": "Python 3"
    },
    "language_info": {
      "name": "python"
    }
  },
  "cells": [
    {
      "cell_type": "markdown",
      "metadata": {
        "id": "view-in-github",
        "colab_type": "text"
      },
      "source": [
        "<a href=\"https://colab.research.google.com/github/4M5/My_Learnings/blob/main/Element_Manipulation.ipynb\" target=\"_parent\"><img src=\"https://colab.research.google.com/assets/colab-badge.svg\" alt=\"Open In Colab\"/></a>"
      ]
    },
    {
      "cell_type": "code",
      "execution_count": 1,
      "metadata": {
        "colab": {
          "base_uri": "https://localhost:8080/"
        },
        "id": "22t1KmwwNsmf",
        "outputId": "6cac3049-569b-4859-9b4e-fc7a3b4c5632"
      },
      "outputs": [
        {
          "output_type": "stream",
          "name": "stdout",
          "text": [
            "Enter string: abcdefghij\n",
            "['a', 'b', 'c', 'd', 'e', 'f', 'g', 'h', 'i'] ['a', 'b', 'c', 'd', 'e', 'f', 'g', 'h', 'i'] ['a', 'b', 'c', 'd', 'e', 'f', 'g', 'h', 'i', 'j'] j\n"
          ]
        }
      ],
      "source": [
        "list1=[]\n",
        "tuple1=()\n",
        "strng=input(\"Enter string: \")\n",
        "list1.extend(strng)\n",
        "list2=list1\n",
        "list3=list1.copy()\n",
        "list4=list2.pop()\n",
        "print(list1,list2,list3,list4)"
      ]
    },
    {
      "cell_type": "code",
      "source": [
        "tuple1=list1\n",
        "print(tuple1)"
      ],
      "metadata": {
        "colab": {
          "base_uri": "https://localhost:8080/"
        },
        "id": "wleYm8RXPQnV",
        "outputId": "9ee786b4-a4ce-419d-b9ff-b8fa2f737e96"
      },
      "execution_count": 7,
      "outputs": [
        {
          "output_type": "stream",
          "name": "stdout",
          "text": [
            "['a', 'b', 'c', 'd', 'e', 'f', 'g', 'h', 'i']\n"
          ]
        }
      ]
    },
    {
      "cell_type": "code",
      "source": [
        "x=list3[1:5]\n",
        "y=list3[1::5]\n",
        "print(x)\n",
        "print(y)"
      ],
      "metadata": {
        "colab": {
          "base_uri": "https://localhost:8080/"
        },
        "id": "oDRwfbA6PdMn",
        "outputId": "9ddb496c-0a5e-4b5d-f0a5-ed14e14b7b8e"
      },
      "execution_count": 11,
      "outputs": [
        {
          "output_type": "stream",
          "name": "stdout",
          "text": [
            "['b', 'c', 'd', 'e']\n",
            "['b', 'g']\n"
          ]
        }
      ]
    },
    {
      "cell_type": "code",
      "source": [],
      "metadata": {
        "id": "BJsG4ojIQbhE"
      },
      "execution_count": null,
      "outputs": []
    }
  ]
}